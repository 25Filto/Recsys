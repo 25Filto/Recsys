{
 "cells": [
  {
   "cell_type": "code",
   "execution_count": 2,
   "metadata": {},
   "outputs": [],
   "source": [
    "import numpy as np\n",
    "import torch\n",
    "import torch.nn as nn\n",
    "\n",
    "# 1. 먼저 전체 데이터를 하나의 리스트로 읽기\n",
    "users, movies, ratings = [], [], []\n",
    "user_len, movie_len = 0, 0\n",
    "\n",
    "with open(\"../data/ratings.dat\", \"r\") as f:\n",
    "    for line in f:\n",
    "        u, m, r, t = line.split(\"::\")\n",
    "        user_len = max(user_len, int(u))\n",
    "        movie_len = max(movie_len, int(m))\n",
    "        users.append(int(u))\n",
    "        movies.append(int(m))\n",
    "        ratings.append(float(r))\n",
    "\n",
    "indices = np.arange(len(ratings))\n",
    "np.random.shuffle(indices)\n",
    "\n",
    "users = np.array(users)[indices]\n",
    "movies = np.array(movies)[indices]\n",
    "ratings = np.array(ratings)[indices]\n",
    "\n",
    "device = torch.device(\"mps\" if torch.backends.mps.is_available() else \"cpu\")\n",
    "\n",
    "\n",
    "users = torch.tensor(users, dtype=torch.long, device=\"mps\")\n",
    "movies = torch.tensor(movies, dtype=torch.long, device = \"mps\")\n",
    "ratings = torch.tensor(ratings, dtype=torch.float, device = \"mps\")\n",
    "\n",
    "# 3. 데이터 분할 (예: 60% 학습, 20% 검증, 20% 테스트)\n",
    "n_samples = len(ratings)\n",
    "train_size = int(0.6 * n_samples)\n",
    "valid_size = int(0.2 * n_samples)\n",
    "\n",
    "# 학습 데이터\n",
    "users_train = users[:train_size]\n",
    "movies_train = movies[:train_size]\n",
    "ratings_train = ratings[:train_size]\n",
    "\n",
    "\n",
    "# 검증 데이터\n",
    "users_valid = users[train_size:train_size+valid_size]\n",
    "movies_valid = movies[train_size:train_size+valid_size]\n",
    "ratings_valid = ratings[train_size:train_size+valid_size]\n",
    "\n",
    "\n",
    "# 테스트 데이터\n",
    "users_test = users[train_size+valid_size:]\n",
    "movies_test = movies[train_size+valid_size:]\n",
    "ratings_test = ratings[train_size+valid_size:]\n",
    "\n",
    "\n",
    "\n",
    "\n"
   ]
  },
  {
   "cell_type": "code",
   "execution_count": 4,
   "metadata": {},
   "outputs": [],
   "source": [
    "class DL_MF(nn.Module):\n",
    "    def __init__(self, user_len, movie_len,rank):\n",
    "        super(DL_MF,self).__init__()\n",
    "        self.user_len = user_len\n",
    "        self.movie_len = movie_len\n",
    "        self.rank = rank\n",
    "        \n",
    "        self.users_embs = nn.Embedding(user_len+1, rank)\n",
    "        self.items_embs = nn.Embedding(movie_len+1, rank)\n",
    "        \n",
    "        self.fc1 = nn.Linear(rank*2, rank)\n",
    "        self.relu = nn.ReLU()\n",
    "        self.fc2 = nn.Linear(rank, 5)\n",
    "        self.fc3 = nn.Linear(5, 1)\n",
    "        \n",
    "    def forward(self, user_idx, movie_idx):\n",
    "        user_emb = self.users_embs(user_idx)\n",
    "        item_emb = self.items_embs(movie_idx)\n",
    "        user_item_concat_emb = torch.concat([user_emb, item_emb], dim=1)\n",
    "        x = self.fc1(user_item_concat_emb)\n",
    "        x = self.relu(x)\n",
    "        x = self.fc2(x)\n",
    "        x = self.relu(x)\n",
    "        x = self.fc3(x)  # 최종 출력 (batch_size, 1)\n",
    "        \n",
    "        return x.squeeze()  # (batch_size,)"
   ]
  },
  {
   "cell_type": "code",
   "execution_count": 5,
   "metadata": {},
   "outputs": [],
   "source": [
    "from torch.utils.data import DataLoader, TensorDataset\n",
    "\n",
    "train_loader = DataLoader(TensorDataset(users_train, movies_train, ratings_train), batch_size=64, shuffle=True)\n",
    "valid_loader = DataLoader(TensorDataset(users_valid, movies_valid, ratings_valid), batch_size=64, shuffle=False)\n",
    "test_loader = DataLoader(TensorDataset(users_test, movies_test, ratings_test), batch_size=64, shuffle=False)"
   ]
  },
  {
   "cell_type": "code",
   "execution_count": 6,
   "metadata": {},
   "outputs": [
    {
     "name": "stdout",
     "output_type": "stream",
     "text": [
      "Epoch: 1, Train Loss: 1.1848, Val Loss: 0.9321\n",
      "Epoch: 2, Train Loss: 0.8774, Val Loss: 0.8558\n",
      "Epoch: 3, Train Loss: 0.8353, Val Loss: 0.8438\n",
      "Epoch: 4, Train Loss: 0.8240, Val Loss: 0.8370\n",
      "Epoch: 5, Train Loss: 0.8181, Val Loss: 0.8353\n",
      "Epoch: 6, Train Loss: 0.8143, Val Loss: 0.8360\n",
      "Epoch: 7, Train Loss: 0.8112, Val Loss: 0.8327\n",
      "Epoch: 8, Train Loss: 0.8079, Val Loss: 0.8319\n",
      "Epoch: 9, Train Loss: 0.8047, Val Loss: 0.8297\n",
      "Epoch: 10, Train Loss: 0.8015, Val Loss: 0.8284\n"
     ]
    }
   ],
   "source": [
    "import torch.optim as optim\n",
    "\n",
    "\n",
    "\n",
    "\n",
    "device = torch.device(\"mps\" if torch.mps.is_available() else \"cpu\")\n",
    "\n",
    "epochs = 10\n",
    "rank = 10\n",
    "model = DL_MF(user_len,movie_len,rank).to(device)\n",
    "optimizer = optim.Adam(model.parameters(), lr = 0.001)\n",
    "\n",
    "criterion = nn.MSELoss()\n",
    "\n",
    "\n",
    "\n",
    "epoch_train_losses, epoch_val_losses = [], []\n",
    "for epoch in range(epochs):\n",
    "    model.train()\n",
    "    train_losses = []\n",
    "    for user, movie, rating in train_loader:\n",
    "        user, movie, rating = user.to(device), movie.to(device), rating.to(device)\n",
    "\n",
    "        pred = model(user, movie)\n",
    "        loss = criterion(pred, rating)\n",
    "        train_losses.append(loss.item())\n",
    "\n",
    "        optimizer.zero_grad()\n",
    "        loss.backward()\n",
    "        optimizer.step()\n",
    "\n",
    "    # 검증 루프\n",
    "    model.eval()\n",
    "    valid_losses = []\n",
    "    with torch.no_grad():\n",
    "        for user, movie, rating in valid_loader:\n",
    "            user, movie, rating = user.to(device), movie.to(device), rating.to(device)\n",
    "            pred = model(user, movie)\n",
    "            loss = criterion(pred, rating)\n",
    "            valid_losses.append(loss.item())\n",
    "            \n",
    "\n",
    "    # 로그 출력\n",
    "    print(f'Epoch: {epoch+1}, Train Loss: {np.mean(train_losses):.4f}, Val Loss: {np.mean(valid_losses):.4f}')\n",
    "\n",
    "\n",
    "\n"
   ]
  },
  {
   "cell_type": "code",
   "execution_count": 7,
   "metadata": {},
   "outputs": [
    {
     "name": "stdout",
     "output_type": "stream",
     "text": [
      "tensor(3.7693, device='mps:0')\n"
     ]
    }
   ],
   "source": [
    "model.eval()\n",
    "with torch.no_grad():\n",
    "    user = users_test[50].unsqueeze(0)\n",
    "    movie = movies_test[50].unsqueeze(0)\n",
    "    ratings = ratings_test[50].unsqueeze(0)\n",
    "    pred = model(user, movie)\n",
    "    print(pred)"
   ]
  },
  {
   "cell_type": "code",
   "execution_count": 8,
   "metadata": {},
   "outputs": [
    {
     "name": "stdout",
     "output_type": "stream",
     "text": [
      "tensor([4.], device='mps:0')\n"
     ]
    }
   ],
   "source": [
    "print(ratings)"
   ]
  },
  {
   "cell_type": "code",
   "execution_count": null,
   "metadata": {},
   "outputs": [],
   "source": []
  }
 ],
 "metadata": {
  "kernelspec": {
   "display_name": "Python 3 (ipykernel)",
   "language": "python",
   "name": "python3"
  },
  "language_info": {
   "codemirror_mode": {
    "name": "ipython",
    "version": 3
   },
   "file_extension": ".py",
   "mimetype": "text/x-python",
   "name": "python",
   "nbconvert_exporter": "python",
   "pygments_lexer": "ipython3",
   "version": "3.11.11"
  }
 },
 "nbformat": 4,
 "nbformat_minor": 4
}
