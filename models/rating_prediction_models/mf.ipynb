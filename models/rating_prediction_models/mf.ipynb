{
 "cells": [
  {
   "cell_type": "code",
   "execution_count": 1,
   "metadata": {},
   "outputs": [
    {
     "name": "stdout",
     "output_type": "stream",
     "text": [
      "helloworld\n"
     ]
    }
   ],
   "source": [
    "print(\"helloworld\")"
   ]
  },
  {
   "cell_type": "code",
   "execution_count": 2,
   "metadata": {},
   "outputs": [],
   "source": [
    "import numpy as np\n",
    "import torch\n",
    "import torch.nn as nn\n",
    "\n",
    "# 1. 먼저 전체 데이터를 하나의 리스트로 읽기\n",
    "users, movies, ratings = [], [], []\n",
    "user_len, movie_len = 0, 0\n",
    "\n",
    "with open(\"../data/ratings.dat\", \"r\") as f:\n",
    "    for line in f:\n",
    "        u, m, r, t = line.split(\"::\")\n",
    "        user_len = max(user_len, int(u))\n",
    "        movie_len = max(movie_len, int(m))\n",
    "        users.append(int(u))\n",
    "        movies.append(int(m))\n",
    "        ratings.append(float(r))\n",
    "\n",
    "indices = np.arange(len(ratings))\n",
    "np.random.shuffle(indices)\n",
    "\n",
    "users = np.array(users)[indices]\n",
    "movies = np.array(movies)[indices]\n",
    "ratings = np.array(ratings)[indices]\n",
    "\n",
    "device = torch.device(\"mps\" if torch.backends.mps.is_available() else \"cpu\")\n",
    "\n",
    "\n",
    "users = torch.tensor(users, dtype=torch.long, device=\"mps\")\n",
    "movies = torch.tensor(movies, dtype=torch.long, device = \"mps\")\n",
    "ratings = torch.tensor(ratings, dtype=torch.float, device = \"mps\")\n",
    "\n",
    "# 3. 데이터 분할 (예: 60% 학습, 20% 검증, 20% 테스트)\n",
    "n_samples = len(ratings)\n",
    "train_size = int(0.6 * n_samples)\n",
    "valid_size = int(0.2 * n_samples)\n",
    "\n",
    "# 학습 데이터\n",
    "users_train = users[:train_size]\n",
    "movies_train = movies[:train_size]\n",
    "ratings_train = ratings[:train_size]\n",
    "\n",
    "\n",
    "# 검증 데이터\n",
    "users_valid = users[train_size:train_size+valid_size]\n",
    "movies_valid = movies[train_size:train_size+valid_size]\n",
    "ratings_valid = ratings[train_size:train_size+valid_size]\n",
    "\n",
    "\n",
    "# 테스트 데이터\n",
    "users_test = users[train_size+valid_size:]\n",
    "movies_test = movies[train_size+valid_size:]\n",
    "ratings_test = ratings[train_size+valid_size:]\n",
    "\n",
    "\n",
    "\n",
    "\n"
   ]
  },
  {
   "cell_type": "code",
   "execution_count": 4,
   "metadata": {},
   "outputs": [],
   "source": [
    "from torch.utils.data import DataLoader, TensorDataset\n",
    "\n",
    "train_loader = DataLoader(TensorDataset(users_train, movies_train, ratings_train), batch_size=64, shuffle=True)\n",
    "valid_loader = DataLoader(TensorDataset(users_valid, movies_valid, ratings_valid), batch_size=64, shuffle=False)\n",
    "test_loader = DataLoader(TensorDataset(users_test, movies_test, ratings_test), batch_size=64, shuffle=False)\n",
    "\n"
   ]
  },
  {
   "cell_type": "markdown",
   "metadata": {},
   "source": [
    "# a + b_i + b_u + r_u*r_i"
   ]
  },
  {
   "cell_type": "code",
   "execution_count": 32,
   "metadata": {},
   "outputs": [],
   "source": [
    "import torch.nn as nn\n",
    "import torch.optim as optim\n",
    "import torch\n",
    "\n",
    "class MF(nn.Module):\n",
    "    def __init__(self, user_len, movie_len, ratings, rank):\n",
    "        super(MF, self).__init__()\n",
    "        self.user_len = user_len\n",
    "        self.movie_len = movie_len\n",
    "        self.rank = rank\n",
    "        self.alpha = ratings.float().mean()\n",
    "        self.user_bias = nn.Embedding(user_len+1, 1)\n",
    "        self.item_bias = nn.Embedding(movie_len+1, 1)\n",
    "        self.user_reps = nn.Embedding(user_len+1, rank)\n",
    "        self.item_reps = nn.Embedding(movie_len+1, rank)\n",
    "        \n",
    "        nn.init.xavier_uniform_(self.user_reps.weight)\n",
    "        nn.init.xavier_uniform_(self.item_reps.weight)\n",
    "        nn.init.zeros_(self.user_bias.weight)\n",
    "        nn.init.zeros_(self.item_bias.weight)\n",
    "\n",
    "    def forward(self, user,item):\n",
    "        user_bias = self.user_bias(user).squeeze()\n",
    "        item_bias = self.item_bias(item).squeeze()\n",
    "        user_emb = self.user_reps(user)\n",
    "        item_emb = self.item_reps(item)\n",
    "        return self.alpha + user_bias + item_bias + torch.sum(user_emb*item_emb,dim=1)\n",
    "    \n",
    "\n",
    "    \n",
    "    \n"
   ]
  },
  {
   "cell_type": "code",
   "execution_count": 37,
   "metadata": {},
   "outputs": [
    {
     "name": "stdout",
     "output_type": "stream",
     "text": [
      "6040\n"
     ]
    }
   ],
   "source": [
    "print(user_len)"
   ]
  },
  {
   "cell_type": "code",
   "execution_count": null,
   "metadata": {},
   "outputs": [],
   "source": []
  },
  {
   "cell_type": "code",
   "execution_count": 34,
   "metadata": {},
   "outputs": [
    {
     "name": "stdout",
     "output_type": "stream",
     "text": [
      "Epoch: 1, Train Loss: 0.9376, Val Loss: 0.7802\n",
      "Epoch: 2, Train Loss: 0.5384, Val Loss: 0.8024\n"
     ]
    }
   ],
   "source": [
    "\n",
    "\n",
    "device = torch.device(\"mps\" if torch.mps.is_available() else \"cpu\")\n",
    "\n",
    "rank = 200\n",
    "\n",
    "epochs = 2\n",
    "\n",
    "model = MF(user_len, movie_len, ratings, rank).to(device)\n",
    "\n",
    "optimizer = optim.Adam(model.parameters(), lr=0.001)\n",
    "criterion = nn.MSELoss()\n",
    "\n",
    "\n",
    "\n",
    "epoch_train_losses, epoch_val_losses = [], []\n",
    "for epoch in range(epochs):\n",
    "    model.train()\n",
    "    train_losses = []\n",
    "    for user, movie, rating in train_loader:\n",
    "        user, movie, rating = user.to(device), movie.to(device), rating.to(device)\n",
    "\n",
    "        pred = model(user, movie)\n",
    "        loss = criterion(pred, rating)\n",
    "        train_losses.append(loss.item())\n",
    "\n",
    "        optimizer.zero_grad()\n",
    "        loss.backward()\n",
    "        optimizer.step()\n",
    "\n",
    "    # 검증 루프\n",
    "    model.eval()\n",
    "    valid_losses = []\n",
    "    with torch.no_grad():\n",
    "        for user, movie, rating in valid_loader:\n",
    "            user, movie, rating = user.to(device), movie.to(device), rating.to(device)\n",
    "            pred = model(user, movie)\n",
    "            loss = criterion(pred, rating)\n",
    "            valid_losses.append(loss.item())\n",
    "            \n",
    "\n",
    "    # 로그 출력\n",
    "    print(f'Epoch: {epoch+1}, Train Loss: {np.mean(train_losses):.4f}, Val Loss: {np.mean(valid_losses):.4f}')\n",
    "\n",
    "\n",
    "\n"
   ]
  },
  {
   "cell_type": "code",
   "execution_count": 35,
   "metadata": {},
   "outputs": [
    {
     "name": "stdout",
     "output_type": "stream",
     "text": [
      "tensor([4.6763], device='mps:0')\n"
     ]
    }
   ],
   "source": [
    "model.eval()\n",
    "with torch.no_grad():\n",
    "    user = users_test[50].unsqueeze(0)\n",
    "    movie = movies_test[50].unsqueeze(0)\n",
    "    ratings = ratings_test[50].unsqueeze(0)\n",
    "    pred = model(user, movie)\n",
    "    print(pred)"
   ]
  },
  {
   "cell_type": "code",
   "execution_count": 36,
   "metadata": {},
   "outputs": [
    {
     "name": "stdout",
     "output_type": "stream",
     "text": [
      "tensor([5.], device='mps:0')\n"
     ]
    }
   ],
   "source": [
    "print(ratings)"
   ]
  },
  {
   "cell_type": "code",
   "execution_count": 26,
   "metadata": {},
   "outputs": [
    {
     "name": "stdout",
     "output_type": "stream",
     "text": [
      "torch.Size([200043])\n",
      "torch.Size([200043])\n",
      "torch.Size([200043])\n"
     ]
    },
    {
     "data": {
      "text/plain": [
       "tensor([5., 4., 3.,  ..., 4., 3., 5.], device='mps:0')"
      ]
     },
     "execution_count": 26,
     "metadata": {},
     "output_type": "execute_result"
    }
   ],
   "source": [
    "print(users_test.shape)\n",
    "print(movies_test.shape)\n",
    "print(ratings_test.shape)\n",
    "ratings_test"
   ]
  },
  {
   "cell_type": "code",
   "execution_count": 26,
   "metadata": {},
   "outputs": [
    {
     "name": "stdout",
     "output_type": "stream",
     "text": [
      "4060유저가 2046에 4.0점을 줬다\n"
     ]
    }
   ],
   "source": [
    "print(f\"{users_test[4]}유저가 {movies_test[4]}에 {ratings_test[4]}점을 줬다\")"
   ]
  },
  {
   "cell_type": "code",
   "execution_count": 27,
   "metadata": {},
   "outputs": [
    {
     "name": "stdout",
     "output_type": "stream",
     "text": [
      "tensor([4060], device='mps:0')유저가 tensor([2046], device='mps:0')에 tensor([3.7759], device='mps:0')점을 줄 것이라 예측했다\n"
     ]
    }
   ],
   "source": [
    "model.eval()\n",
    "with torch.no_grad():\n",
    "    user = users_test[4].unsqueeze(0)\n",
    "    movie = movies_test[4].unsqueeze(0)\n",
    "    ratings = ratings_test[4].unsqueeze(0)\n",
    "    pred = model(user, movie)\n",
    "    print(f\"{user}유저가 {movie}에 {pred}점을 줄 것이라 예측했다\")"
   ]
  },
  {
   "cell_type": "code",
   "execution_count": 28,
   "metadata": {},
   "outputs": [
    {
     "name": "stdout",
     "output_type": "stream",
     "text": [
      "tensor([4.2033], device='mps:0')\n",
      "tensor([5.], device='mps:0')\n"
     ]
    }
   ],
   "source": [
    "model.eval()\n",
    "with torch.no_grad():\n",
    "    user = users_test[50].unsqueeze(0)\n",
    "    movie = movies_test[50].unsqueeze(0)\n",
    "    ratings = ratings_test[50].unsqueeze(0)\n",
    "    pred = model(user, movie)\n",
    "    print(pred)\n",
    "print(ratings)"
   ]
  },
  {
   "cell_type": "markdown",
   "metadata": {},
   "source": [
    "# b_i + b_u + r_u*r_i"
   ]
  },
  {
   "cell_type": "code",
   "execution_count": 29,
   "metadata": {},
   "outputs": [
    {
     "name": "stdout",
     "output_type": "stream",
     "text": [
      "Epoch: 1, Train Loss: 89.5009, Val Loss: 66.7852\n",
      "Epoch: 2, Train Loss: 40.1633, Val Loss: 38.9625\n",
      "Epoch: 3, Train Loss: 17.3637, Val Loss: 24.0509\n",
      "Epoch: 4, Train Loss: 7.6747, Val Loss: 16.3321\n",
      "Epoch: 5, Train Loss: 3.7028, Val Loss: 12.2241\n",
      "Epoch: 6, Train Loss: 2.0342, Val Loss: 9.9081\n",
      "Epoch: 7, Train Loss: 1.3073, Val Loss: 8.5302\n",
      "Epoch: 8, Train Loss: 0.9767, Val Loss: 7.6854\n",
      "Epoch: 9, Train Loss: 0.8157, Val Loss: 7.1312\n",
      "Epoch: 10, Train Loss: 0.7233, Val Loss: 6.7450\n"
     ]
    }
   ],
   "source": [
    "import numpy as np\n",
    "import torch\n",
    "import torch.nn as nn\n",
    "import torch.optim as optim\n",
    "\n",
    "\n",
    "# 모델 정의\n",
    "class MF(nn.Module):\n",
    "    def __init__(self, user_len, movie_len, rank):\n",
    "        super(MF, self).__init__()\n",
    "        self.user_bias = nn.Embedding(user_len+1, 1)\n",
    "        self.item_bias = nn.Embedding(movie_len+1, 1)\n",
    "        self.user_reps = nn.Embedding(user_len+1, rank)\n",
    "        self.item_reps = nn.Embedding(movie_len+1, rank)\n",
    "\n",
    "    def forward(self, user, item):\n",
    "        user_bias = self.user_bias(user).squeeze()\n",
    "        item_bias = self.item_bias(item).squeeze()\n",
    "        user_emb = self.user_reps(user)\n",
    "        item_emb = self.item_reps(item)\n",
    "        return user_bias + item_bias + torch.sum(user_emb * item_emb, dim=1)\n",
    "\n",
    "# 학습 설정\n",
    "rank = 100\n",
    "epochs = 10\n",
    "\n",
    "model = MF(user_len, movie_len, rank).to(device)\n",
    "optimizer = optim.Adam(model.parameters(), lr=0.001)\n",
    "criterion = nn.MSELoss()\n",
    "\n",
    "# 학습 루프\n",
    "for epoch in range(epochs):\n",
    "    model.train()\n",
    "    train_losses = []\n",
    "    for user, movie, rating in train_loader:\n",
    "        user, movie, rating = user.to(device), movie.to(device), rating.to(device)\n",
    "\n",
    "        pred = model(user, movie)\n",
    "        loss = criterion(pred, rating)\n",
    "        train_losses.append(loss.item())\n",
    "\n",
    "        optimizer.zero_grad()\n",
    "        loss.backward()\n",
    "        optimizer.step()\n",
    "\n",
    "    # 검증 루프\n",
    "    model.eval()\n",
    "    valid_losses = []\n",
    "    with torch.no_grad():\n",
    "        for user, movie, rating in valid_loader:\n",
    "            user, movie, rating = user.to(device), movie.to(device), rating.to(device)\n",
    "            pred = model(user, movie)\n",
    "            loss = criterion(pred, rating)\n",
    "            valid_losses.append(loss.item())\n",
    "\n",
    "    # 로그 출력\n",
    "    print(f'Epoch: {epoch+1}, Train Loss: {np.mean(train_losses):.4f}, Val Loss: {np.mean(valid_losses):.4f}')\n"
   ]
  },
  {
   "cell_type": "code",
   "execution_count": 30,
   "metadata": {},
   "outputs": [
    {
     "name": "stdout",
     "output_type": "stream",
     "text": [
      "tensor([3.4446], device='mps:0')\n"
     ]
    }
   ],
   "source": [
    "model.eval()\n",
    "with torch.no_grad():\n",
    "    user = users_test[3].unsqueeze(0)\n",
    "    movie = movies_test[3].unsqueeze(0)\n",
    "    ratings = ratings_test[3].unsqueeze(0)\n",
    "    pred = model(user, movie)\n",
    "    print(pred)"
   ]
  },
  {
   "cell_type": "code",
   "execution_count": 31,
   "metadata": {},
   "outputs": [
    {
     "name": "stdout",
     "output_type": "stream",
     "text": [
      "tensor([3.], device='mps:0')\n"
     ]
    }
   ],
   "source": [
    "print(ratings)"
   ]
  },
  {
   "cell_type": "code",
   "execution_count": null,
   "metadata": {},
   "outputs": [],
   "source": []
  },
  {
   "cell_type": "code",
   "execution_count": null,
   "metadata": {},
   "outputs": [],
   "source": []
  }
 ],
 "metadata": {
  "kernelspec": {
   "display_name": "dmlab",
   "language": "python",
   "name": "python3"
  },
  "language_info": {
   "codemirror_mode": {
    "name": "ipython",
    "version": 3
   },
   "file_extension": ".py",
   "mimetype": "text/x-python",
   "name": "python",
   "nbconvert_exporter": "python",
   "pygments_lexer": "ipython3",
   "version": "3.11.11"
  }
 },
 "nbformat": 4,
 "nbformat_minor": 4
}
